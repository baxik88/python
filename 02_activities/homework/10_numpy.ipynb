{
 "cells": [
  {
   "cell_type": "markdown",
   "metadata": {
    "id": "o9ZHooznNUJM"
   },
   "source": [
    "# NumPy\n",
    "## Practice Problems"
   ]
  },
  {
   "cell_type": "markdown",
   "metadata": {
    "id": "CjqzgdT1FY8H"
   },
   "source": [
    "### 1. The formula for exponential growth is `population_size = N0 *e**rt`, where `N0` is the initial population, `e` is the exponential function, `r` is the rate, and `t` is time. Using this:\n",
    "\n",
    "1.   Set the initial population, `N0`, as 100 and the growth rate, `r`, as 0.4\n",
    "2.   Use the suitable `numpy` function to generate an array of time points, `t`, which go from 0 to 10 seconds, in 0.2 second increments.\n",
    "3.   Write an expression to evaluate `population_size`, which should be an array of the population size for each time point in `t`.\n",
    "4.   Create a new variable called `population_size_noise`, use the same expression you wrote in parts (3), and add noise to the population at each time point. Do this by adding an expression that uses a `numpy` function to generate a random value for each time point drawn from a normal distribution of `mean=0` and `stdev=250` (i.e., population_size_noise = expression_from_part_a + expression_to_add_noise)."
   ]
  },
  {
   "cell_type": "code",
   "execution_count": 7,
   "metadata": {
    "colab": {
     "base_uri": "https://localhost:8080/"
    },
    "executionInfo": {
     "elapsed": 7,
     "status": "ok",
     "timestamp": 1668296875008,
     "user": {
      "displayName": "Kaylie Lau",
      "userId": "01284785813595846851"
     },
     "user_tz": 300
    },
    "id": "ULSswoS4EhRs",
    "outputId": "6d541d46-0b4f-4300-9d52-bfd6d4877aff"
   },
   "outputs": [],
   "source": [
    "import numpy as np\n",
    "\n"
   ]
  },
  {
   "cell_type": "code",
   "execution_count": 12,
   "metadata": {},
   "outputs": [
    {
     "name": "stdout",
     "output_type": "stream",
     "text": [
      "[[1 2 3]\n",
      " [3 2 1]]\n"
     ]
    }
   ],
   "source": [
    "a = np.array(\n",
    "    [\n",
    "    [1, 2, 3],\n",
    "    [3, 2, 1]\n",
    "    ]\n",
    "    )   \n",
    "\n",
    "print(a)"
   ]
  },
  {
   "cell_type": "code",
   "execution_count": 13,
   "metadata": {},
   "outputs": [
    {
     "data": {
      "text/plain": [
       "2"
      ]
     },
     "execution_count": 13,
     "metadata": {},
     "output_type": "execute_result"
    }
   ],
   "source": [
    "a.ndim\n"
   ]
  },
  {
   "cell_type": "code",
   "execution_count": 14,
   "metadata": {},
   "outputs": [
    {
     "data": {
      "text/plain": [
       "(2, 3)"
      ]
     },
     "execution_count": 14,
     "metadata": {},
     "output_type": "execute_result"
    }
   ],
   "source": [
    "a.shape"
   ]
  },
  {
   "cell_type": "code",
   "execution_count": 15,
   "metadata": {},
   "outputs": [
    {
     "data": {
      "text/plain": [
       "6"
      ]
     },
     "execution_count": 15,
     "metadata": {},
     "output_type": "execute_result"
    }
   ],
   "source": [
    "a.size\n"
   ]
  },
  {
   "cell_type": "code",
   "execution_count": 16,
   "metadata": {},
   "outputs": [
    {
     "data": {
      "text/plain": [
       "dtype('int32')"
      ]
     },
     "execution_count": 16,
     "metadata": {},
     "output_type": "execute_result"
    }
   ],
   "source": [
    "a.dtype"
   ]
  },
  {
   "cell_type": "code",
   "execution_count": 24,
   "metadata": {},
   "outputs": [
    {
     "name": "stdout",
     "output_type": "stream",
     "text": [
      "[[0. 0. 0.]\n",
      " [0. 0. 0.]\n",
      " [0. 0. 0.]\n",
      " [0. 0. 0.]]\n",
      "[0. 0. 0.]\n",
      "0.0\n",
      "0.0\n",
      "0.0\n",
      "[0. 0. 0.]\n",
      "0.0\n",
      "0.0\n",
      "0.0\n",
      "[0. 0. 0.]\n",
      "0.0\n",
      "0.0\n",
      "0.0\n",
      "[0. 0. 0.]\n",
      "0.0\n",
      "0.0\n",
      "0.0\n",
      "[[0. 0. 0.]\n",
      " [0. 0. 0.]\n",
      " [0. 0. 0.]\n",
      " [0. 0. 0.]]\n",
      "[0. 0. 0.]\n",
      "0.0\n",
      "0.0\n",
      "0.0\n",
      "[0. 0. 0.]\n",
      "0.0\n",
      "0.0\n",
      "0.0\n",
      "[0. 0. 0.]\n",
      "0.0\n",
      "0.0\n",
      "0.0\n",
      "[0. 0. 0.]\n",
      "0.0\n",
      "0.0\n",
      "0.0\n",
      "[[0. 0. 0.]\n",
      " [0. 0. 0.]\n",
      " [0. 0. 0.]\n",
      " [0. 0. 0.]]\n",
      "[0. 0. 0.]\n",
      "0.0\n",
      "0.0\n",
      "0.0\n",
      "[0. 0. 0.]\n",
      "0.0\n",
      "0.0\n",
      "0.0\n",
      "[0. 0. 0.]\n",
      "0.0\n",
      "0.0\n",
      "0.0\n",
      "[0. 0. 0.]\n",
      "0.0\n",
      "0.0\n",
      "0.0\n"
     ]
    }
   ],
   "source": [
    "np.zeros((3, 4, 3))\n",
    "for i in np.zeros((3, 4, 3)):\n",
    "    print(i)\n",
    "    for j in i:\n",
    "        print(j)\n",
    "        for k in j:\n",
    "            print(k)\n",
    " \n",
    "    "
   ]
  },
  {
   "cell_type": "code",
   "execution_count": 22,
   "metadata": {},
   "outputs": [
    {
     "data": {
      "text/plain": [
       "array([[[6, 9],\n",
       "        [6, 1],\n",
       "        [1, 2],\n",
       "        [8, 7]],\n",
       "\n",
       "       [[3, 5],\n",
       "        [6, 3],\n",
       "        [5, 3],\n",
       "        [5, 8]],\n",
       "\n",
       "       [[8, 2],\n",
       "        [8, 1],\n",
       "        [7, 8],\n",
       "        [7, 2]]])"
      ]
     },
     "execution_count": 22,
     "metadata": {},
     "output_type": "execute_result"
    }
   ],
   "source": [
    "np.random.seed(1)\n",
    "np.random.randint(1, 10, (3, 4, 2))"
   ]
  },
  {
   "cell_type": "code",
   "execution_count": 25,
   "metadata": {},
   "outputs": [
    {
     "data": {
      "text/plain": [
       "array([1, 1, 1, 1, 1, 2, 2, 2, 2, 2, 3, 3, 3, 3, 3, 4, 4, 4, 4, 4, 5, 5,\n",
       "       5, 5, 5])"
      ]
     },
     "execution_count": 25,
     "metadata": {},
     "output_type": "execute_result"
    }
   ],
   "source": [
    "onedim_array = np.array([1, 2, 3, 4, 5])\n",
    "multidim_array = np.repeat(onedim_array, 5)\n",
    "multidim_array"
   ]
  },
  {
   "cell_type": "code",
   "execution_count": 9,
   "metadata": {},
   "outputs": [
    {
     "ename": "NameError",
     "evalue": "name 'onedim_array' is not defined",
     "output_type": "error",
     "traceback": [
      "\u001b[1;31m---------------------------------------------------------------------------\u001b[0m",
      "\u001b[1;31mNameError\u001b[0m                                 Traceback (most recent call last)",
      "Cell \u001b[1;32mIn[9], line 1\u001b[0m\n\u001b[1;32m----> 1\u001b[0m multidim_array \u001b[38;5;241m=\u001b[39m np\u001b[38;5;241m.\u001b[39mtile(\u001b[43monedim_array\u001b[49m, (\u001b[38;5;241m5\u001b[39m,\u001b[38;5;241m1\u001b[39m))\n\u001b[0;32m      2\u001b[0m multidim_array\n",
      "\u001b[1;31mNameError\u001b[0m: name 'onedim_array' is not defined"
     ]
    }
   ],
   "source": [
    "multidim_array = np.tile(onedim_array, (5,1))\n",
    "multidim_array"
   ]
  },
  {
   "cell_type": "code",
   "execution_count": 10,
   "metadata": {},
   "outputs": [
    {
     "ename": "NameError",
     "evalue": "name 'onedim_array' is not defined",
     "output_type": "error",
     "traceback": [
      "\u001b[1;31m---------------------------------------------------------------------------\u001b[0m",
      "\u001b[1;31mNameError\u001b[0m                                 Traceback (most recent call last)",
      "Cell \u001b[1;32mIn[10], line 1\u001b[0m\n\u001b[1;32m----> 1\u001b[0m another_arr \u001b[38;5;241m=\u001b[39m np\u001b[38;5;241m.\u001b[39mtile(\u001b[43monedim_array\u001b[49m, (\u001b[38;5;241m2\u001b[39m, \u001b[38;5;241m3\u001b[39m, \u001b[38;5;241m1\u001b[39m))\n\u001b[0;32m      2\u001b[0m another_arr\n",
      "\u001b[1;31mNameError\u001b[0m: name 'onedim_array' is not defined"
     ]
    }
   ],
   "source": [
    "another_arr = np.tile(onedim_array, (2, 3, 1))\n",
    "another_arr"
   ]
  },
  {
   "cell_type": "markdown",
   "metadata": {},
   "source": [
    "<details>\n",
    "  <summary>Answer</summary>\n",
    "\n",
    "  ```python\n",
    "  import numpy as np\n",
    "\n",
    "  #set initial population\n",
    "  N0 = 100\n",
    "  #set growth rate\n",
    "  rate = 0.4\n",
    "  #create array of time points \n",
    "  t = np.arange(start=0, stop=10.2, step=0.2)\n",
    "\n",
    "  #calculate population of colony at the time points in t\n",
    "  population_size = N0 * np.exp(rate*t)\n",
    "  print('Population size is: ',population_size)\n",
    "\n",
    "  #add noise to population at each time point\n",
    "  population_size_noise = N0 * np.exp(rate*t) + np.random.normal(loc=0, scale=250, size=np.shape(population_size))\n",
    "  print('Population size with noise is: ',population_size_noise)\n",
    "  ```\n",
    "</details>"
   ]
  },
  {
   "cell_type": "code",
   "execution_count": 37,
   "metadata": {},
   "outputs": [
    {
     "data": {
      "text/plain": [
       "array([[ 5, 10],\n",
       "       [ 4,  8],\n",
       "       [ 3,  6],\n",
       "       [ 2,  4],\n",
       "       [ 1,  2],\n",
       "       [ 0,  0]])"
      ]
     },
     "execution_count": 37,
     "metadata": {},
     "output_type": "execute_result"
    }
   ],
   "source": [
    "b = np.array(\n",
    "    [\n",
    "    [5, 4, 3, 2, 1, 0],\n",
    "    [10, 8, 6, 4, 2, 0],\n",
    "    ]\n",
    ")\n",
    "b.T"
   ]
  },
  {
   "cell_type": "code",
   "execution_count": 42,
   "metadata": {},
   "outputs": [
    {
     "data": {
      "text/plain": [
       "array([[ 5,  4,  3],\n",
       "       [ 2,  1,  0],\n",
       "       [10,  8,  6],\n",
       "       [ 4,  2,  0]])"
      ]
     },
     "execution_count": 42,
     "metadata": {},
     "output_type": "execute_result"
    }
   ],
   "source": [
    "b.reshape(4, 3)\n",
    "\n"
   ]
  },
  {
   "cell_type": "code",
   "execution_count": 43,
   "metadata": {},
   "outputs": [
    {
     "data": {
      "text/plain": [
       "array([ 5,  4,  3,  2,  1,  0, 10,  8,  6,  4,  2,  0])"
      ]
     },
     "execution_count": 43,
     "metadata": {},
     "output_type": "execute_result"
    }
   ],
   "source": [
    "b.flatten()"
   ]
  },
  {
   "cell_type": "code",
   "execution_count": 47,
   "metadata": {},
   "outputs": [
    {
     "data": {
      "text/plain": [
       "array([[ 5,  4,  3,  2,  1,  0,  1,  2,  3],\n",
       "       [10,  8,  6,  4,  2,  0,  3,  2,  1]])"
      ]
     },
     "execution_count": 47,
     "metadata": {},
     "output_type": "execute_result"
    }
   ],
   "source": [
    "np.hstack((b, a))"
   ]
  },
  {
   "cell_type": "code",
   "execution_count": 49,
   "metadata": {},
   "outputs": [
    {
     "data": {
      "text/plain": [
       "array([[ 5,  4,  3],\n",
       "       [ 2,  1,  0],\n",
       "       [10,  8,  6],\n",
       "       [ 4,  2,  0],\n",
       "       [ 1,  2,  3],\n",
       "       [ 3,  2,  1]])"
      ]
     },
     "execution_count": 49,
     "metadata": {},
     "output_type": "execute_result"
    }
   ],
   "source": [
    "np.vstack((b.reshape(4, 3), a))"
   ]
  },
  {
   "cell_type": "code",
   "execution_count": null,
   "metadata": {},
   "outputs": [],
   "source": []
  },
  {
   "cell_type": "code",
   "execution_count": null,
   "metadata": {},
   "outputs": [
    {
     "data": {
      "text/plain": [
       "array([1, 2, 3])"
      ]
     },
     "execution_count": 50,
     "metadata": {},
     "output_type": "execute_result"
    }
   ],
   "source": [
    "arr1 = np.array([1, 2, 3, 4])\n",
    "arr1"
   ]
  },
  {
   "cell_type": "code",
   "execution_count": 52,
   "metadata": {},
   "outputs": [
    {
     "data": {
      "text/plain": [
       "array([5, 6, 7, 8])"
      ]
     },
     "execution_count": 52,
     "metadata": {},
     "output_type": "execute_result"
    }
   ],
   "source": [
    "arr2 = np.arange(5, 9)\n",
    "arr2"
   ]
  },
  {
   "cell_type": "markdown",
   "metadata": {
    "id": "QmxvYhS3OCNJ"
   },
   "source": [
    "### 2. Create a multiplication table for the number 6."
   ]
  },
  {
   "cell_type": "code",
   "execution_count": null,
   "metadata": {
    "colab": {
     "base_uri": "https://localhost:8080/"
    },
    "executionInfo": {
     "elapsed": 8,
     "status": "ok",
     "timestamp": 1668296913832,
     "user": {
      "displayName": "Kaylie Lau",
      "userId": "01284785813595846851"
     },
     "user_tz": 300
    },
    "id": "Fg9nfyEvPMLF",
    "outputId": "694b4804-2901-4b22-d573-c7b29be99928"
   },
   "outputs": [],
   "source": [
    "# Your code here"
   ]
  },
  {
   "cell_type": "markdown",
   "metadata": {},
   "source": [
    "<details>\n",
    "  <summary>Answer</summary>\n",
    "\n",
    "  ```python\n",
    "  rows = np.arange(1, 7)\n",
    "  columns = rows[:,np.newaxis]\n",
    "  arr = rows * columns\n",
    "  arr\n",
    "  ```\n",
    "</details>"
   ]
  },
  {
   "cell_type": "markdown",
   "metadata": {
    "id": "FshwbTe5PFNg"
   },
   "source": [
    "### 3. Slice `arr` to create the following two arrays:\n",
    "\n",
    "`arr1` = [4, 12, 3]\n",
    "\n",
    "`arr2` = [3, 19]"
   ]
  },
  {
   "cell_type": "code",
   "execution_count": null,
   "metadata": {
    "colab": {
     "base_uri": "https://localhost:8080/"
    },
    "executionInfo": {
     "elapsed": 126,
     "status": "ok",
     "timestamp": 1668297029241,
     "user": {
      "displayName": "Kaylie Lau",
      "userId": "01284785813595846851"
     },
     "user_tz": 300
    },
    "id": "or6m9tOLPsoz",
    "outputId": "6ba143e8-e468-4384-eee9-7b9466474b2b"
   },
   "outputs": [],
   "source": [
    "# Your code here"
   ]
  },
  {
   "cell_type": "markdown",
   "metadata": {},
   "source": [
    "<details>\n",
    "  <summary>Answer</summary>\n",
    "\n",
    "  ```python\n",
    "  arr = np.array([[4, 12, 98], [12, 11, 92], [3, 19, 60]])\n",
    "  arr\n",
    "\n",
    "  arr1 = arr[:,0]\n",
    "  print(arr1)\n",
    "\n",
    "  arr2 = arr[2,0:2]\n",
    "  print(arr2)\n",
    "  ```\n",
    "</details>"
   ]
  }
 ],
 "metadata": {
  "colab": {
   "authorship_tag": "ABX9TyMLRnQUjVoJta2UK9xkrr7Z",
   "collapsed_sections": [],
   "provenance": []
  },
  "kernelspec": {
   "display_name": "igor_dsi",
   "language": "python",
   "name": "python3"
  },
  "language_info": {
   "codemirror_mode": {
    "name": "ipython",
    "version": 3
   },
   "file_extension": ".py",
   "mimetype": "text/x-python",
   "name": "python",
   "nbconvert_exporter": "python",
   "pygments_lexer": "ipython3",
   "version": "3.9.15"
  }
 },
 "nbformat": 4,
 "nbformat_minor": 0
}
